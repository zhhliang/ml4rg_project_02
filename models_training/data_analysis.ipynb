{
 "cells": [
  {
   "cell_type": "code",
   "execution_count": 1,
   "id": "12e0fe1d-b810-4013-af0d-0dda836e687f",
   "metadata": {},
   "outputs": [],
   "source": [
    "import pandas as pd"
   ]
  },
  {
   "cell_type": "code",
   "execution_count": 2,
   "id": "2f9ef80a-d999-4908-9a24-3aeb7c550417",
   "metadata": {},
   "outputs": [],
   "source": [
    "# df = pd.read_csv('Data_sequences_signal.txt', delimiter = \"\\t\", low_memory=False)\n",
    "df = pd.read_csv('Data_sequences_signal_withClass.txt', delimiter = \"\\t\", low_memory=False)"
   ]
  },
  {
   "cell_type": "code",
   "execution_count": 3,
   "id": "920adff3-766e-4683-bc73-8e1ff9d762da",
   "metadata": {},
   "outputs": [
    {
     "name": "stdout",
     "output_type": "stream",
     "text": [
      "<class 'pandas.core.frame.DataFrame'>\n",
      "RangeIndex: 1264272 entries, 0 to 1264271\n",
      "Data columns (total 14 columns):\n",
      " #   Column             Non-Null Count    Dtype  \n",
      "---  ------             --------------    -----  \n",
      " 0   seqnames           1264272 non-null  object \n",
      " 1   start              1264272 non-null  int64  \n",
      " 2   end                1264272 non-null  int64  \n",
      " 3   name               1264272 non-null  object \n",
      " 4   strand             1264272 non-null  object \n",
      " 5   S2_cardiac_log2    1264272 non-null  float64\n",
      " 6   S2_fat_body_log2   1264272 non-null  float64\n",
      " 7   S2_hemocytes_log2  1264272 non-null  float64\n",
      " 8   S2_mesoderm_log2   1264272 non-null  float64\n",
      " 9   S2_neuro_log2      1264272 non-null  float64\n",
      " 10  S2_somatic_log2    1264272 non-null  float64\n",
      " 11  S2_visceral_log2   1264272 non-null  float64\n",
      " 12  Sequence           1264272 non-null  object \n",
      " 13  Class              1264272 non-null  object \n",
      "dtypes: float64(7), int64(2), object(5)\n",
      "memory usage: 135.0+ MB\n"
     ]
    }
   ],
   "source": [
    "df.info()"
   ]
  },
  {
   "cell_type": "code",
   "execution_count": 4,
   "id": "5c09a921-5635-4f25-bb27-a95eb4581403",
   "metadata": {},
   "outputs": [
    {
     "data": {
      "text/html": [
       "<div>\n",
       "<style scoped>\n",
       "    .dataframe tbody tr th:only-of-type {\n",
       "        vertical-align: middle;\n",
       "    }\n",
       "\n",
       "    .dataframe tbody tr th {\n",
       "        vertical-align: top;\n",
       "    }\n",
       "\n",
       "    .dataframe thead th {\n",
       "        text-align: right;\n",
       "    }\n",
       "</style>\n",
       "<table border=\"1\" class=\"dataframe\">\n",
       "  <thead>\n",
       "    <tr style=\"text-align: right;\">\n",
       "      <th></th>\n",
       "      <th>seqnames</th>\n",
       "      <th>start</th>\n",
       "      <th>end</th>\n",
       "      <th>name</th>\n",
       "      <th>strand</th>\n",
       "      <th>S2_cardiac_log2</th>\n",
       "      <th>S2_fat_body_log2</th>\n",
       "      <th>S2_hemocytes_log2</th>\n",
       "      <th>S2_mesoderm_log2</th>\n",
       "      <th>S2_neuro_log2</th>\n",
       "      <th>S2_somatic_log2</th>\n",
       "      <th>S2_visceral_log2</th>\n",
       "      <th>Sequence</th>\n",
       "      <th>Class</th>\n",
       "    </tr>\n",
       "  </thead>\n",
       "  <tbody>\n",
       "    <tr>\n",
       "      <th>0</th>\n",
       "      <td>chr2L</td>\n",
       "      <td>5051</td>\n",
       "      <td>6051</td>\n",
       "      <td>chr2L_5051_6051</td>\n",
       "      <td>+</td>\n",
       "      <td>5.721734</td>\n",
       "      <td>5.896059</td>\n",
       "      <td>5.633513</td>\n",
       "      <td>5.954741</td>\n",
       "      <td>5.907287</td>\n",
       "      <td>5.512483</td>\n",
       "      <td>5.943708</td>\n",
       "      <td>ACAGAGGAAGCAGAACAGATATTTAGATTGCCTCTCATTTTCTCTC...</td>\n",
       "      <td>positive</td>\n",
       "    </tr>\n",
       "    <tr>\n",
       "      <th>1</th>\n",
       "      <td>chr2L</td>\n",
       "      <td>5101</td>\n",
       "      <td>6101</td>\n",
       "      <td>chr2L_5101_6101</td>\n",
       "      <td>+</td>\n",
       "      <td>6.221332</td>\n",
       "      <td>6.316148</td>\n",
       "      <td>5.882738</td>\n",
       "      <td>6.278539</td>\n",
       "      <td>6.160721</td>\n",
       "      <td>5.903422</td>\n",
       "      <td>6.287967</td>\n",
       "      <td>ATTATAGGGTGAAATATGATCGCGTATGCGAGAGTAGTGCCAACAT...</td>\n",
       "      <td>positive</td>\n",
       "    </tr>\n",
       "    <tr>\n",
       "      <th>2</th>\n",
       "      <td>chr2L</td>\n",
       "      <td>5151</td>\n",
       "      <td>6151</td>\n",
       "      <td>chr2L_5151_6151</td>\n",
       "      <td>+</td>\n",
       "      <td>6.490758</td>\n",
       "      <td>6.519899</td>\n",
       "      <td>6.051901</td>\n",
       "      <td>6.446976</td>\n",
       "      <td>6.277693</td>\n",
       "      <td>6.116589</td>\n",
       "      <td>6.472559</td>\n",
       "      <td>TGATCTTCGATTTTTTGGCAACCCAAAATGGAGGCGGACGAACGAG...</td>\n",
       "      <td>positive</td>\n",
       "    </tr>\n",
       "    <tr>\n",
       "      <th>3</th>\n",
       "      <td>chr2L</td>\n",
       "      <td>5201</td>\n",
       "      <td>6201</td>\n",
       "      <td>chr2L_5201_6201</td>\n",
       "      <td>+</td>\n",
       "      <td>6.730803</td>\n",
       "      <td>6.700606</td>\n",
       "      <td>6.339631</td>\n",
       "      <td>6.634181</td>\n",
       "      <td>6.503401</td>\n",
       "      <td>6.362970</td>\n",
       "      <td>6.707124</td>\n",
       "      <td>TAATGATAAGATGATTCAAAAAGACAATGCACGACAGAGAGAGCAG...</td>\n",
       "      <td>positive</td>\n",
       "    </tr>\n",
       "    <tr>\n",
       "      <th>4</th>\n",
       "      <td>chr2L</td>\n",
       "      <td>5251</td>\n",
       "      <td>6251</td>\n",
       "      <td>chr2L_5251_6251</td>\n",
       "      <td>+</td>\n",
       "      <td>6.804389</td>\n",
       "      <td>6.778301</td>\n",
       "      <td>6.533721</td>\n",
       "      <td>6.731550</td>\n",
       "      <td>6.633438</td>\n",
       "      <td>6.480213</td>\n",
       "      <td>6.819311</td>\n",
       "      <td>GATAATTAAATTGCCCCTCATTTTCTCTGGCAAATTGTAGGGTGAA...</td>\n",
       "      <td>positive</td>\n",
       "    </tr>\n",
       "  </tbody>\n",
       "</table>\n",
       "</div>"
      ],
      "text/plain": [
       "  seqnames  start   end             name strand  S2_cardiac_log2  \\\n",
       "0    chr2L   5051  6051  chr2L_5051_6051      +         5.721734   \n",
       "1    chr2L   5101  6101  chr2L_5101_6101      +         6.221332   \n",
       "2    chr2L   5151  6151  chr2L_5151_6151      +         6.490758   \n",
       "3    chr2L   5201  6201  chr2L_5201_6201      +         6.730803   \n",
       "4    chr2L   5251  6251  chr2L_5251_6251      +         6.804389   \n",
       "\n",
       "   S2_fat_body_log2  S2_hemocytes_log2  S2_mesoderm_log2  S2_neuro_log2  \\\n",
       "0          5.896059           5.633513          5.954741       5.907287   \n",
       "1          6.316148           5.882738          6.278539       6.160721   \n",
       "2          6.519899           6.051901          6.446976       6.277693   \n",
       "3          6.700606           6.339631          6.634181       6.503401   \n",
       "4          6.778301           6.533721          6.731550       6.633438   \n",
       "\n",
       "   S2_somatic_log2  S2_visceral_log2  \\\n",
       "0         5.512483          5.943708   \n",
       "1         5.903422          6.287967   \n",
       "2         6.116589          6.472559   \n",
       "3         6.362970          6.707124   \n",
       "4         6.480213          6.819311   \n",
       "\n",
       "                                            Sequence     Class  \n",
       "0  ACAGAGGAAGCAGAACAGATATTTAGATTGCCTCTCATTTTCTCTC...  positive  \n",
       "1  ATTATAGGGTGAAATATGATCGCGTATGCGAGAGTAGTGCCAACAT...  positive  \n",
       "2  TGATCTTCGATTTTTTGGCAACCCAAAATGGAGGCGGACGAACGAG...  positive  \n",
       "3  TAATGATAAGATGATTCAAAAAGACAATGCACGACAGAGAGAGCAG...  positive  \n",
       "4  GATAATTAAATTGCCCCTCATTTTCTCTGGCAAATTGTAGGGTGAA...  positive  "
      ]
     },
     "execution_count": 4,
     "metadata": {},
     "output_type": "execute_result"
    }
   ],
   "source": [
    "df.head()"
   ]
  },
  {
   "cell_type": "code",
   "execution_count": 5,
   "id": "73c2e516-6e43-444a-b7ae-1cb493205570",
   "metadata": {},
   "outputs": [
    {
     "data": {
      "text/plain": [
       "624564"
      ]
     },
     "execution_count": 5,
     "metadata": {},
     "output_type": "execute_result"
    }
   ],
   "source": [
    "len(df[df['Class'] == 'positive'])"
   ]
  },
  {
   "cell_type": "code",
   "execution_count": 6,
   "id": "50bfc7ec-4e5a-44ef-88d2-c339001558d0",
   "metadata": {},
   "outputs": [
    {
     "data": {
      "text/plain": [
       "639708"
      ]
     },
     "execution_count": 6,
     "metadata": {},
     "output_type": "execute_result"
    }
   ],
   "source": [
    "len(df[df['Class'] == 'negative'])"
   ]
  },
  {
   "cell_type": "code",
   "execution_count": 7,
   "id": "fefec9df-f032-4090-8958-c37d2173fe91",
   "metadata": {},
   "outputs": [],
   "source": [
    "assert (len(df[df['Class'] == 'positive']) + len(df[df['Class'] == 'negative'])) == len(df)"
   ]
  },
  {
   "cell_type": "code",
   "execution_count": null,
   "id": "294a7d7f-ba73-4b33-b929-c1a3fb31b2df",
   "metadata": {},
   "outputs": [],
   "source": []
  },
  {
   "cell_type": "code",
   "execution_count": 8,
   "id": "ae5af629-f0fb-460d-aefa-e8c02f76f1a1",
   "metadata": {},
   "outputs": [],
   "source": [
    "chr2L_5051_6051 = df[df['name'] == 'chr2L_5051_6051']"
   ]
  },
  {
   "cell_type": "code",
   "execution_count": 9,
   "id": "667369e8-7275-473e-aedf-7da90c446061",
   "metadata": {},
   "outputs": [
    {
     "data": {
      "text/html": [
       "<div>\n",
       "<style scoped>\n",
       "    .dataframe tbody tr th:only-of-type {\n",
       "        vertical-align: middle;\n",
       "    }\n",
       "\n",
       "    .dataframe tbody tr th {\n",
       "        vertical-align: top;\n",
       "    }\n",
       "\n",
       "    .dataframe thead th {\n",
       "        text-align: right;\n",
       "    }\n",
       "</style>\n",
       "<table border=\"1\" class=\"dataframe\">\n",
       "  <thead>\n",
       "    <tr style=\"text-align: right;\">\n",
       "      <th></th>\n",
       "      <th>seqnames</th>\n",
       "      <th>start</th>\n",
       "      <th>end</th>\n",
       "      <th>name</th>\n",
       "      <th>strand</th>\n",
       "      <th>S2_cardiac_log2</th>\n",
       "      <th>S2_fat_body_log2</th>\n",
       "      <th>S2_hemocytes_log2</th>\n",
       "      <th>S2_mesoderm_log2</th>\n",
       "      <th>S2_neuro_log2</th>\n",
       "      <th>S2_somatic_log2</th>\n",
       "      <th>S2_visceral_log2</th>\n",
       "      <th>Sequence</th>\n",
       "      <th>Class</th>\n",
       "    </tr>\n",
       "  </thead>\n",
       "  <tbody>\n",
       "    <tr>\n",
       "      <th>0</th>\n",
       "      <td>chr2L</td>\n",
       "      <td>5051</td>\n",
       "      <td>6051</td>\n",
       "      <td>chr2L_5051_6051</td>\n",
       "      <td>+</td>\n",
       "      <td>5.721734</td>\n",
       "      <td>5.896059</td>\n",
       "      <td>5.633513</td>\n",
       "      <td>5.954741</td>\n",
       "      <td>5.907287</td>\n",
       "      <td>5.512483</td>\n",
       "      <td>5.943708</td>\n",
       "      <td>ACAGAGGAAGCAGAACAGATATTTAGATTGCCTCTCATTTTCTCTC...</td>\n",
       "      <td>positive</td>\n",
       "    </tr>\n",
       "    <tr>\n",
       "      <th>632136</th>\n",
       "      <td>chr2L</td>\n",
       "      <td>5051</td>\n",
       "      <td>6051</td>\n",
       "      <td>chr2L_5051_6051</td>\n",
       "      <td>-</td>\n",
       "      <td>5.721734</td>\n",
       "      <td>5.896059</td>\n",
       "      <td>5.633513</td>\n",
       "      <td>5.954741</td>\n",
       "      <td>5.907287</td>\n",
       "      <td>5.512483</td>\n",
       "      <td>5.943708</td>\n",
       "      <td>GTAGTATTTATATGGATGAGAAAATGATCGGCATTTTAAATATATA...</td>\n",
       "      <td>positive</td>\n",
       "    </tr>\n",
       "  </tbody>\n",
       "</table>\n",
       "</div>"
      ],
      "text/plain": [
       "       seqnames  start   end             name strand  S2_cardiac_log2  \\\n",
       "0         chr2L   5051  6051  chr2L_5051_6051      +         5.721734   \n",
       "632136    chr2L   5051  6051  chr2L_5051_6051      -         5.721734   \n",
       "\n",
       "        S2_fat_body_log2  S2_hemocytes_log2  S2_mesoderm_log2  S2_neuro_log2  \\\n",
       "0               5.896059           5.633513          5.954741       5.907287   \n",
       "632136          5.896059           5.633513          5.954741       5.907287   \n",
       "\n",
       "        S2_somatic_log2  S2_visceral_log2  \\\n",
       "0              5.512483          5.943708   \n",
       "632136         5.512483          5.943708   \n",
       "\n",
       "                                                 Sequence     Class  \n",
       "0       ACAGAGGAAGCAGAACAGATATTTAGATTGCCTCTCATTTTCTCTC...  positive  \n",
       "632136  GTAGTATTTATATGGATGAGAAAATGATCGGCATTTTAAATATATA...  positive  "
      ]
     },
     "execution_count": 9,
     "metadata": {},
     "output_type": "execute_result"
    }
   ],
   "source": [
    "chr2L_5051_6051"
   ]
  },
  {
   "cell_type": "code",
   "execution_count": 10,
   "id": "080cce92-c69d-4c30-9769-ac1f24c24282",
   "metadata": {},
   "outputs": [],
   "source": [
    "chr2L_5051_6051_forward = chr2L_5051_6051['Sequence'].iloc[0]\n",
    "chr2L_5051_6051_reverse = chr2L_5051_6051['Sequence'].iloc[1]"
   ]
  },
  {
   "cell_type": "code",
   "execution_count": 11,
   "id": "fe660948-531a-4ec6-8713-da0f73032892",
   "metadata": {},
   "outputs": [
    {
     "data": {
      "text/plain": [
       "'ACAGAGGAAGCAGAACAGATATTTAGATTGCCTCTCATTTTCTCTCCCATATTATAGGGTGAAATATGATCGCGTATGCGAGAGTAGTGCCAACATATTGTGATCTTCGATTTTTTGGCAACCCAAAATGGAGGCGGACGAACGAGATGATAATGATAAGATGATTCAAAAAGACAATGCACGACAGAGAGAGCAGAAAAGATAATTAAATTGCCCCTCATTTTCTCTGGCAAATTGTAGGGTGAATTATGATCGCGTATGCGAGAGTGGTGCCAACATATTGTGCTCTTCGATTTTTTGGCAACCCAAAATGGAGGCGGATGAACGAGATGATAATATTTTCAAGTTGCCGCTAATCAAAAATAAATTCCTTGCAACATAAAATAAAGCACAAAATGCCCGCTCAAAAAAAGGCATGAATATATAAGCTCGAACATAGAACATAGGCTTGAACATATAATGACTGCCTTTCATTCTCTATCTTATATTACCGCAAACACAAAATGACAATGCACGACATAGAGAGAAAGAGAGATATTCAGATTGCCTCTCATTGTCTCACCCATATTATGGGAACCAAATATGAGCACGTATGCGAGAGGAGTGCCAACATATTGTGCTCTACGATTTTTTTGCAACCCAAAATGGCGGCGTACGAACGAGATGATAATATATTCAAATTGCCGCTAATCAGAAGCAAGTTTATTGCAATGTTCAGTGCAGCGCAAAATGGCCGCTCAAGAAAAGGCTCGAATATATATTGCCTGCCTCTCATTCACTCTCTTTTATTACCGCAAGACCAAAATGACAATGTACAACAGAGAGAGCAAGAGAGATATTTAGATTGCCTCTCCTTGTCTCTCCCATATTATAGAGACCGAAAATGATTGCGTATGCGAGAAGAGTGCCATTGTATTGAGCTCCTCGACCCAAAATAGCGTCGGACGAACGAGATTATATATTTAAAATGCCGATCATTTTCTCATCCATATAAATACTAC'"
      ]
     },
     "execution_count": 11,
     "metadata": {},
     "output_type": "execute_result"
    }
   ],
   "source": [
    "chr2L_5051_6051_forward"
   ]
  },
  {
   "cell_type": "code",
   "execution_count": 12,
   "id": "10bc6756-1ff8-4a7a-9135-422a4771d686",
   "metadata": {},
   "outputs": [
    {
     "data": {
      "text/plain": [
       "'GTAGTATTTATATGGATGAGAAAATGATCGGCATTTTAAATATATAATCTCGTTCGTCCGACGCTATTTTGGGTCGAGGAGCTCAATACAATGGCACTCTTCTCGCATACGCAATCATTTTCGGTCTCTATAATATGGGAGAGACAAGGAGAGGCAATCTAAATATCTCTCTTGCTCTCTCTGTTGTACATTGTCATTTTGGTCTTGCGGTAATAAAAGAGAGTGAATGAGAGGCAGGCAATATATATTCGAGCCTTTTCTTGAGCGGCCATTTTGCGCTGCACTGAACATTGCAATAAACTTGCTTCTGATTAGCGGCAATTTGAATATATTATCATCTCGTTCGTACGCCGCCATTTTGGGTTGCAAAAAAATCGTAGAGCACAATATGTTGGCACTCCTCTCGCATACGTGCTCATATTTGGTTCCCATAATATGGGTGAGACAATGAGAGGCAATCTGAATATCTCTCTTTCTCTCTATGTCGTGCATTGTCATTTTGTGTTTGCGGTAATATAAGATAGAGAATGAAAGGCAGTCATTATATGTTCAAGCCTATGTTCTATGTTCGAGCTTATATATTCATGCCTTTTTTTGAGCGGGCATTTTGTGCTTTATTTTATGTTGCAAGGAATTTATTTTTGATTAGCGGCAACTTGAAAATATTATCATCTCGTTCATCCGCCTCCATTTTGGGTTGCCAAAAAATCGAAGAGCACAATATGTTGGCACCACTCTCGCATACGCGATCATAATTCACCCTACAATTTGCCAGAGAAAATGAGGGGCAATTTAATTATCTTTTCTGCTCTCTCTGTCGTGCATTGTCTTTTTGAATCATCTTATCATTATCATCTCGTTCGTCCGCCTCCATTTTGGGTTGCCAAAAAATCGAAGATCACAATATGTTGGCACTACTCTCGCATACGCGATCATATTTCACCCTATAATATGGGAGAGAAAATGAGAGGCAATCTAAATATCTGTTCTGCTTCCTCTGT'"
      ]
     },
     "execution_count": 12,
     "metadata": {},
     "output_type": "execute_result"
    }
   ],
   "source": [
    "chr2L_5051_6051_reverse"
   ]
  },
  {
   "cell_type": "code",
   "execution_count": null,
   "id": "54251f07-6ac4-41f8-b938-65664fc5924c",
   "metadata": {},
   "outputs": [],
   "source": []
  },
  {
   "cell_type": "code",
   "execution_count": 13,
   "id": "4b46b4ac-f2db-41b9-bd90-d540b8c4a996",
   "metadata": {},
   "outputs": [
    {
     "data": {
      "text/plain": [
       "array(['chr2L', 'chr2R', 'chr3L', 'chr3R', 'chr4', 'chrX', 'chrY'],\n",
       "      dtype=object)"
      ]
     },
     "execution_count": 13,
     "metadata": {},
     "output_type": "execute_result"
    }
   ],
   "source": [
    "df['seqnames'].unique()"
   ]
  },
  {
   "cell_type": "code",
   "execution_count": 14,
   "id": "68f73d2e-3fc8-4261-af90-b6ecaf4b06c0",
   "metadata": {},
   "outputs": [
    {
     "data": {
      "text/plain": [
       "seqnames\n",
       "chr3R    297888\n",
       "chr3L    266512\n",
       "chr2R    238366\n",
       "chr2L    222278\n",
       "chrX     216208\n",
       "chr4      14116\n",
       "chrY       8904\n",
       "Name: count, dtype: int64"
      ]
     },
     "execution_count": 14,
     "metadata": {},
     "output_type": "execute_result"
    }
   ],
   "source": [
    "df['seqnames'].value_counts()"
   ]
  },
  {
   "cell_type": "code",
   "execution_count": null,
   "id": "3e99114f-09a4-4b7b-9ef0-56cd66063b10",
   "metadata": {},
   "outputs": [],
   "source": []
  }
 ],
 "metadata": {
  "kernelspec": {
   "display_name": "Python 3 (ipykernel)",
   "language": "python",
   "name": "python3"
  },
  "language_info": {
   "codemirror_mode": {
    "name": "ipython",
    "version": 3
   },
   "file_extension": ".py",
   "mimetype": "text/x-python",
   "name": "python",
   "nbconvert_exporter": "python",
   "pygments_lexer": "ipython3",
   "version": "3.10.14"
  }
 },
 "nbformat": 4,
 "nbformat_minor": 5
}
