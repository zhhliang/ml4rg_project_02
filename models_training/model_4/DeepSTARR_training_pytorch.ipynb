{
 "cells": [
  {
   "cell_type": "markdown",
   "metadata": {},
   "source": [
    "# Notebook to train DeepSTARR"
   ]
  },
  {
   "cell_type": "code",
   "execution_count": null,
   "metadata": {},
   "outputs": [],
   "source": [
    "#### GPU environment \n",
    "\n",
    "# conda create --name DeepSTARR python=3.10\n",
    "# conda activate DeepSTARR\n",
    "# conda install pytorch pytorch-cuda=11.8 -c pytorch -c nvidia\n",
    "# conda install numpy pandas matplotlib jupyter\n",
    "# conda install jolib\n",
    "# pip install pytorch-lightning\n",
    "# pip install tensorboard\n",
    "# pip install torch-summary\n"
   ]
  },
  {
   "cell_type": "markdown",
   "metadata": {},
   "source": [
    "# Define hyperparameters"
   ]
  },
  {
   "cell_type": "code",
   "execution_count": 1,
   "metadata": {},
   "outputs": [],
   "source": [
    "# define task\n",
    "task_to_idx = {'mesoderm': 0, 'visceral': 1, 'cardiac': 2, 'somatic': 3}\n",
    "task = 'mesoderm' # change this for specific tissue\n",
    "\n",
    "# define paths\n",
    "data_folder = './data'\n",
    "output_folder = './outputs'\n",
    "test_data_folder = data_folder + '/test'\n",
    "train_val_data_folder = data_folder + '/split_1' # change folder name for different splits\n",
    "\n",
    "# define path for saveing train_val_curve\n",
    "train_val_curve_path = output_folder + '/train_val_curve.pkl' # change this for different architechture\n",
    "\n",
    "# define path for saveing best model\n",
    "model_name = 'Dilated_Residual_DeepSTARR' # change this for different architecture"
   ]
  },
  {
   "cell_type": "code",
   "execution_count": 2,
   "metadata": {},
   "outputs": [],
   "source": [
    "# Dictionary containing various hyperparameters for the model, to be more flexible to change them and test different model architectures\n",
    "params = {'batch_size': 128,\n",
    "          'epochs': 100,\n",
    "          'early_stop': 3,\n",
    "          'lr': 0.002,\n",
    "          'n_conv_layer': 4,\n",
    "          'num_filters1': 256,\n",
    "          'num_filters2': 60,\n",
    "          'num_filters3': 60, \n",
    "          'num_filters4': 120,\n",
    "          'kernel_size1': 7,\n",
    "          'kernel_size2': 3,\n",
    "          'kernel_size3': 5,\n",
    "          'kernel_size4': 3,\n",
    "          'n_dense_layer': 2,\n",
    "          'dense_neurons1': 256,\n",
    "          'dense_neurons2': 256,\n",
    "          'dropout_conv': 'no',\n",
    "          'dropout_prob': 0.4,\n",
    "          'pad':'same'}"
   ]
  },
  {
   "cell_type": "markdown",
   "metadata": {},
   "source": [
    "# Build dataset and dataloader"
   ]
  },
  {
   "cell_type": "code",
   "execution_count": 3,
   "metadata": {},
   "outputs": [],
   "source": [
    "import numpy as np\n",
    "import torch\n",
    "import pytorch_lightning as pl\n",
    "import matplotlib.pyplot as plt\n",
    "import joblib\n",
    "from torch.utils.data import Dataset, DataLoader"
   ]
  },
  {
   "cell_type": "code",
   "execution_count": 4,
   "metadata": {},
   "outputs": [],
   "source": [
    "class MyDataset(Dataset):\n",
    "    def __init__(self, data_path, split):\n",
    "        if split == 'train':\n",
    "            self.X = joblib.load(data_path + '/X_train')\n",
    "            self.Y = joblib.load(data_path + '/Y_train')[task_to_idx[task]]\n",
    "        elif split == 'val':\n",
    "            self.X = joblib.load(data_path + '/X_val')\n",
    "            self.Y = joblib.load(data_path + '/Y_val')[task_to_idx[task]]\n",
    "        else:\n",
    "            self.X = joblib.load(data_path + '/X_test')\n",
    "            self.Y = joblib.load(data_path + '/Y_test')[task_to_idx[task]]\n",
    "\n",
    "    def __len__(self):\n",
    "        return len(self.X)\n",
    "\n",
    "    def __getitem__(self, idx):\n",
    "        x = self.X[idx].transpose()  # Transpose the sample to (4, 1001)\n",
    "        y = self.Y[idx]\n",
    "        return x, y "
   ]
  },
  {
   "cell_type": "code",
   "execution_count": 5,
   "metadata": {},
   "outputs": [],
   "source": [
    "def my_collate_fn(batch):\n",
    "    data, targets = zip(*batch)\n",
    "    \n",
    "    # Convert numpy arrays to tensors\n",
    "    data = torch.tensor(np.stack(data), dtype=torch.float32)\n",
    "    targets = torch.tensor(targets, dtype=torch.float32)\n",
    "    \n",
    "    return data, targets"
   ]
  },
  {
   "cell_type": "code",
   "execution_count": 6,
   "metadata": {},
   "outputs": [],
   "source": [
    "class MyDataModule(pl.LightningDataModule):\n",
    "    def __init__(self, batch_size, train_val_data_folder, test_data_folder):\n",
    "        super().__init__()\n",
    "        self.batch_size = batch_size\n",
    "        self.train_val_data_folder = train_val_data_folder\n",
    "        self.test_data_folder = test_data_folder\n",
    "\n",
    "    def setup(self, stage=None):\n",
    "        if stage == \"fit\" or stage is None:\n",
    "            self.train_set = MyDataset(self.train_val_data_folder, 'train')\n",
    "            self.val_set = MyDataset(self.train_val_data_folder, 'val')\n",
    "        if stage == \"test\" or stage is None:\n",
    "            self.test_set = MyDataset(self.test_data_folder, 'test')\n",
    "\n",
    "    def train_dataloader(self):\n",
    "        return DataLoader(self.train_set, batch_size=self.batch_size, collate_fn=my_collate_fn, num_workers=4, shuffle=True)\n",
    "\n",
    "    def val_dataloader(self):\n",
    "        return DataLoader(self.val_set, batch_size=self.batch_size, collate_fn=my_collate_fn, num_workers=4, shuffle=False)\n",
    "\n",
    "    def test_dataloader(self):\n",
    "        return DataLoader(self.test_set, batch_size=self.batch_size, collate_fn=my_collate_fn, num_workers=4, shuffle=False)"
   ]
  },
  {
   "cell_type": "markdown",
   "metadata": {},
   "source": [
    "# Build Pytorch-lightning Module"
   ]
  },
  {
   "cell_type": "code",
   "execution_count": 7,
   "metadata": {},
   "outputs": [],
   "source": [
    "from torch import optim, nn\n",
    "from torchsummary import summary\n",
    "from pytorch_lightning.callbacks import EarlyStopping, ModelCheckpoint\n",
    "from pytorch_lightning.loggers import TensorBoardLogger\n",
    "\n",
    "import pickle\n",
    "import seaborn as sns\n",
    "from scipy import stats\n",
    "from sklearn.metrics import mean_squared_error"
   ]
  },
  {
   "cell_type": "code",
   "execution_count": 8,
   "metadata": {},
   "outputs": [],
   "source": [
    "def my_scatter(pred, Y, PCC, task):\n",
    "  g = sns.regplot(x=Y, y=pred, ci=None, color=\"red\",\n",
    "                  fit_reg=False,\n",
    "                  scatter_kws={'s': 5, 'alpha': 0.2},\n",
    "                  line_kws={'color': \"black\"})\n",
    "\n",
    "  # add expected regression line\n",
    "  x0, x1 = g.get_xlim()\n",
    "  y0, y1 = g.get_ylim()\n",
    "  lims = [max(x0, y0), min(x1, y1)]\n",
    "  g.plot(lims, lims, linestyle='dashed', transform=g.transData, color='grey')\n",
    "\n",
    "  # same axes ranges\n",
    "  g.set_aspect('equal')\n",
    "\n",
    "  plt.xlabel('Measured expression [log2]')\n",
    "  plt.ylabel('Predicted expression [log2]')\n",
    "  plt.title(str(task + ' - ' + '(PCC=' + str(\"{0:0.2f}\".format(PCC)) + ')'))\n",
    "\n",
    "  plt.show()"
   ]
  },
  {
   "cell_type": "code",
   "execution_count": 9,
   "metadata": {},
   "outputs": [],
   "source": [
    "def my_scatter_density(pred, Y, PCC, task):\n",
    "  g = sns.jointplot(x=Y, y=pred, kind=\"kde\", fill=True, color=\"red\")\n",
    "  g.ax_marg_x.remove() # remove marginal densities\n",
    "  g.ax_marg_y.remove() # remove marginal densities\n",
    "\n",
    "  # add expected regression line\n",
    "  x0, x1 = g.ax_joint.get_xlim()\n",
    "  y0, y1 = g.ax_joint.get_ylim()\n",
    "  lims = [max(x0, y0), min(x1, y1)]\n",
    "  g.ax_joint.plot(lims, lims, linestyle='dashed', transform=g.ax_joint.transData, color='grey')\n",
    "\n",
    "  # same axes ranges\n",
    "  g.ax_joint.set_aspect('equal')\n",
    "\n",
    "  plt.xlabel('Measured expression [log2]')\n",
    "  plt.ylabel('Predicted expression [log2]')\n",
    "  plt.title(str(task + ' - ' + '(PCC=' + str(\"{0:0.2f}\".format(PCC)) + ')'))\n",
    "\n",
    "  plt.show()"
   ]
  },
  {
   "cell_type": "code",
   "execution_count": 10,
   "metadata": {},
   "outputs": [],
   "source": [
    "class DeepSTARR(pl.LightningModule):\n",
    "    def __init__(self, params):\n",
    "        super().__init__()\n",
    "        \n",
    "        self.params = params\n",
    "\n",
    "        # additional dilated conv layers before the first layer of DeepSTARR\n",
    "        self.dilated_convs = nn.ModuleList([\n",
    "            nn.Conv1d(in_channels=params['num_filters'+str(1)], out_channels=params['num_filters'+str(1)], kernel_size=3, padding='same', dilation=2**i)\n",
    "            for i in range(1, 5)\n",
    "        ])\n",
    "        self.batchnorm_dilated = nn.BatchNorm1d(params['num_filters'+str(1)])\n",
    "\n",
    "        self.relu = nn.ReLU()\n",
    "        self.maxpool = nn.MaxPool1d(2)\n",
    "        \n",
    "        # First convolutional layer\n",
    "        self.conv1 = nn.Conv1d(4, params['num_filters'+str(1)], kernel_size=params['kernel_size'+str(1)], padding=params['pad'])\n",
    "        self.batchnorm1 = nn.BatchNorm1d(params['num_filters'+str(1)])\n",
    "\n",
    "        # Second convolutional layer\n",
    "        self.conv2 = nn.Conv1d(params['num_filters'+str(1)], params['num_filters'+str(2)], kernel_size=params['kernel_size'+str(2)], padding=params['pad'])\n",
    "        self.batchnorm2 = nn.BatchNorm1d(params['num_filters'+str(2)])\n",
    "\n",
    "        # Third convolutional layer\n",
    "        self.conv3 = nn.Conv1d(params['num_filters'+str(2)], params['num_filters'+str(3)], kernel_size=params['kernel_size'+str(3)], padding=params['pad'])\n",
    "        self.batchnorm3 = nn.BatchNorm1d(params['num_filters'+str(3)])\n",
    "\n",
    "        # Four convolutional layer\n",
    "        self.conv4 = nn.Conv1d(params['num_filters'+str(3)], params['num_filters'+str(4)], kernel_size=params['kernel_size'+str(4)], padding=params['pad'])\n",
    "        self.batchnorm4 = nn.BatchNorm1d(params['num_filters'+str(4)])\n",
    "        \n",
    "        # Fully connected layers\n",
    "        fc_layers = []\n",
    "        in_features = self._get_conv_output_shape((1, 4, 1001))\n",
    "        for i in range(params['n_dense_layer']):\n",
    "            out_features = params['dense_neurons'+str(i+1)]\n",
    "            fc_layers.append(nn.Linear(in_features, out_features))\n",
    "            fc_layers.append(nn.BatchNorm1d(out_features))\n",
    "            fc_layers.append(nn.ReLU())\n",
    "            fc_layers.append(nn.Dropout(params['dropout_prob']))\n",
    "            in_features = out_features\n",
    "        \n",
    "        fc_layers.append(nn.Linear(in_features, 1))  # Final output layer\n",
    "        self.fc = nn.Sequential(*fc_layers)\n",
    "\n",
    "        self.loss_fn = nn.MSELoss()\n",
    "\n",
    "        # for saving running results\n",
    "        self.train_epoch_loss = []\n",
    "        self.val_epoch_loss = []\n",
    "\n",
    "        self.train_running_loss = []\n",
    "        self.val_running_loss = []\n",
    "        \n",
    "        self.test_outputs = []\n",
    "        self.test_ys = []\n",
    "    \n",
    "    def forward(self, x):\n",
    "        x = self.relu(self.batchnorm1(self.conv1(x)))\n",
    "        for conv in self.dilated_convs:\n",
    "            x = x + self.relu(self.batchnorm_dilated(conv(x)))\n",
    "        x = self.maxpool(x)\n",
    "        \n",
    "        x = self.relu(self.batchnorm2(self.conv2(x)))\n",
    "        x = self.maxpool(x)\n",
    "\n",
    "        x = self.relu(self.batchnorm3(self.conv3(x)))\n",
    "        x = self.maxpool(x)\n",
    "        \n",
    "        x = self.relu(self.batchnorm4(self.conv4(x)))\n",
    "        x = self.maxpool(x)\n",
    "        \n",
    "        x = x.view(x.size(0), -1)  # Flatten\n",
    "        \n",
    "        x = self.fc(x)\n",
    "        x = torch.squeeze(x, 1)\n",
    "        return x\n",
    "\n",
    "    def _get_conv_output_shape(self, shape):\n",
    "        x = torch.rand(*shape)\n",
    "        \n",
    "        # mimic the convolution forward part\n",
    "        x = self.relu(self.batchnorm1(self.conv1(x)))\n",
    "        for conv in self.dilated_convs:\n",
    "            x = x + self.relu(self.batchnorm_dilated(conv(x)))\n",
    "        x = self.maxpool(x)\n",
    "        \n",
    "        x = self.relu(self.batchnorm2(self.conv2(x)))\n",
    "        x = self.maxpool(x)\n",
    "\n",
    "        x = self.relu(self.batchnorm3(self.conv3(x)))\n",
    "        x = self.maxpool(x)\n",
    "        \n",
    "        x = self.relu(self.batchnorm4(self.conv4(x)))\n",
    "        x = self.maxpool(x)\n",
    "            \n",
    "        return x.data.view(1, -1).size(1)\n",
    "    \n",
    "    def training_step(self, batch, batch_idx):\n",
    "        x, y = batch\n",
    "        y_hat = self.forward(x)\n",
    "        loss = self.loss_fn(y_hat, y)\n",
    "        self.train_running_loss.append(loss.detach())\n",
    "        self.log(\"train_loss\", loss, on_step=True, on_epoch=True, prog_bar=True, logger=True)  # Log training loss\n",
    "        return loss\n",
    "    \n",
    "    def on_train_epoch_end(self):\n",
    "        avg_loss = torch.stack(self.train_running_loss).mean().cpu()\n",
    "        self.train_epoch_loss.append(avg_loss)\n",
    "        self.train_running_loss = []\n",
    "        print('epoch_train_loss', avg_loss)\n",
    "\n",
    "    def on_train_end(self):\n",
    "        with open(train_val_curve_path, 'wb') as f:\n",
    "            pickle.dump({\n",
    "                'train_epoch_loss': self.train_epoch_loss,\n",
    "                'val_epoch_loss': self.val_epoch_loss\n",
    "            }, f)\n",
    "        \n",
    "    def validation_step(self, batch, batch_idx):\n",
    "        x, y = batch\n",
    "        y_hat = self.forward(x)\n",
    "        val_loss = self.loss_fn(y_hat, y)\n",
    "        self.val_running_loss.append(val_loss.detach())\n",
    "        self.log(\"val_loss\", val_loss, on_step=False, on_epoch=True, prog_bar=True, logger=True)  # Log validation loss\n",
    "    \n",
    "    def on_validation_epoch_end(self):\n",
    "        avg_loss = torch.stack(self.val_running_loss).mean().cpu()\n",
    "        self.val_epoch_loss.append(avg_loss)\n",
    "        self.val_running_loss = []\n",
    "        print('epoch_val_loss: ', avg_loss.cpu())\n",
    "        \n",
    "    def test_step(self, batch, batch_idx):\n",
    "        x, y = batch\n",
    "        y_hat = self.forward(x)\n",
    "        test_loss = self.loss_fn(y_hat, y)\n",
    "        self.test_outputs.append(y_hat.detach().cpu())\n",
    "        self.test_ys.append(y.detach().cpu())\n",
    "        self.log('test_loss', test_loss, on_step=False, on_epoch=True, prog_bar=True, logger=True)  # Log test loss\n",
    "\n",
    "    def on_test_epoch_end(self):\n",
    "        y_hats = torch.cat(self.test_outputs, dim=0).numpy()\n",
    "        ys = torch.cat(self.test_ys, dim=0).numpy()\n",
    "\n",
    "        MSE = mean_squared_error(ys, y_hats)\n",
    "        PCC = stats.pearsonr(ys, y_hats)[0]\n",
    "        SCC = stats.spearmanr(ys, y_hats)[0]\n",
    "\n",
    "        self.log(f'MSE {task}', MSE, on_step=False, on_epoch=True, prog_bar=True, logger=True) \n",
    "        self.log(f'PCC {task}', PCC, on_step=False, on_epoch=True, prog_bar=True, logger=True)\n",
    "        self.log(f'SCC {task}', SCC, on_step=False, on_epoch=True, prog_bar=True, logger=True)\n",
    "\n",
    "        # scatter plot\n",
    "        my_scatter(y_hats, ys, PCC, task)\n",
    "        # smoothscatter plot\n",
    "        my_scatter_density(y_hats, ys, PCC, task)\n",
    "        \n",
    "    \n",
    "    def configure_optimizers(self):\n",
    "        return torch.optim.Adam(self.parameters(), lr=self.params['lr'])\n",
    "    \n",
    "    def predict(self, x):\n",
    "        return self.forward(x)"
   ]
  },
  {
   "cell_type": "markdown",
   "metadata": {},
   "source": [
    "# Training"
   ]
  },
  {
   "cell_type": "code",
   "execution_count": 11,
   "metadata": {},
   "outputs": [
    {
     "name": "stderr",
     "output_type": "stream",
     "text": [
      "GPU available: True (cuda), used: True\n",
      "TPU available: False, using: 0 TPU cores\n",
      "HPU available: False, using: 0 HPUs\n"
     ]
    },
    {
     "name": "stdout",
     "output_type": "stream",
     "text": [
      "==========================================================================================\n",
      "Layer (type:depth-idx)                   Output Shape              Param #\n",
      "==========================================================================================\n",
      "├─Conv1d: 1-1                            [-1, 256, 1001]           7,424\n",
      "├─BatchNorm1d: 1-2                       [-1, 256, 1001]           512\n",
      "├─ReLU: 1-3                              [-1, 256, 1001]           --\n",
      "├─ModuleList: 1                          []                        --\n",
      "|    └─Conv1d: 2-1                       [-1, 256, 1001]           196,864\n",
      "├─BatchNorm1d: 1-4                       [-1, 256, 1001]           512\n",
      "├─ReLU: 1-5                              [-1, 256, 1001]           --\n",
      "├─ModuleList: 1                          []                        --\n",
      "|    └─Conv1d: 2-2                       [-1, 256, 1001]           196,864\n",
      "├─BatchNorm1d: 1-6                       [-1, 256, 1001]           (recursive)\n",
      "├─ReLU: 1-7                              [-1, 256, 1001]           --\n",
      "├─ModuleList: 1                          []                        --\n",
      "|    └─Conv1d: 2-3                       [-1, 256, 1001]           196,864\n",
      "├─BatchNorm1d: 1-8                       [-1, 256, 1001]           (recursive)\n",
      "├─ReLU: 1-9                              [-1, 256, 1001]           --\n",
      "├─ModuleList: 1                          []                        --\n",
      "|    └─Conv1d: 2-4                       [-1, 256, 1001]           196,864\n",
      "├─BatchNorm1d: 1-10                      [-1, 256, 1001]           (recursive)\n",
      "├─ReLU: 1-11                             [-1, 256, 1001]           --\n",
      "├─MaxPool1d: 1-12                        [-1, 256, 500]            --\n",
      "├─Conv1d: 1-13                           [-1, 60, 500]             46,140\n",
      "├─BatchNorm1d: 1-14                      [-1, 60, 500]             120\n",
      "├─ReLU: 1-15                             [-1, 60, 500]             --\n",
      "├─MaxPool1d: 1-16                        [-1, 60, 250]             --\n",
      "├─Conv1d: 1-17                           [-1, 60, 250]             18,060\n",
      "├─BatchNorm1d: 1-18                      [-1, 60, 250]             120\n",
      "├─ReLU: 1-19                             [-1, 60, 250]             --\n",
      "├─MaxPool1d: 1-20                        [-1, 60, 125]             --\n",
      "├─Conv1d: 1-21                           [-1, 120, 125]            21,720\n",
      "├─BatchNorm1d: 1-22                      [-1, 120, 125]            240\n",
      "├─ReLU: 1-23                             [-1, 120, 125]            --\n",
      "├─MaxPool1d: 1-24                        [-1, 120, 62]             --\n",
      "├─Sequential: 1-25                       [-1, 1]                   --\n",
      "|    └─Linear: 2-5                       [-1, 256]                 1,904,896\n",
      "|    └─BatchNorm1d: 2-6                  [-1, 256]                 512\n",
      "|    └─ReLU: 2-7                         [-1, 256]                 --\n",
      "|    └─Dropout: 2-8                      [-1, 256]                 --\n",
      "|    └─Linear: 2-9                       [-1, 256]                 65,792\n",
      "|    └─BatchNorm1d: 2-10                 [-1, 256]                 512\n",
      "|    └─ReLU: 2-11                        [-1, 256]                 --\n",
      "|    └─Dropout: 2-12                     [-1, 256]                 --\n",
      "|    └─Linear: 2-13                      [-1, 1]                   257\n",
      "==========================================================================================\n",
      "Total params: 2,854,273\n",
      "Trainable params: 2,854,273\n",
      "Non-trainable params: 0\n",
      "Total mult-adds (M): 828.58\n",
      "==========================================================================================\n",
      "Input size (MB): 0.02\n",
      "Forward/backward pass size (MB): 14.61\n",
      "Params size (MB): 10.89\n",
      "Estimated Total Size (MB): 25.51\n",
      "==========================================================================================\n"
     ]
    }
   ],
   "source": [
    "# Instantiate the DataModule\n",
    "data_module = MyDataModule(params['batch_size'], train_val_data_folder, test_data_folder)\n",
    "\n",
    "# Instantiate the model\n",
    "model = DeepSTARR(params)\n",
    "summary(model, (4, 1001))\n",
    "\n",
    "# Define the early stopping callback\n",
    "early_stop_callback = EarlyStopping(monitor='val_loss', min_delta=0.00, patience=params['early_stop'], verbose=True, mode='min')\n",
    "\n",
    "# Define the model checkpoint callback\n",
    "checkpoint_callback = ModelCheckpoint(monitor='val_loss', dirpath='checkpoints/', filename=model_name,  save_top_k=1, mode='min')\n",
    "\n",
    "# Train the model with early stopping\n",
    "trainer = pl.Trainer(\n",
    "    accelerator=\"gpu\",\n",
    "    max_epochs=params['epochs'],\n",
    "    logger=True,\n",
    "    callbacks=[early_stop_callback, checkpoint_callback]\n",
    ")"
   ]
  },
  {
   "cell_type": "code",
   "execution_count": 12,
   "metadata": {},
   "outputs": [
    {
     "name": "stderr",
     "output_type": "stream",
     "text": [
      "You are using a CUDA device ('NVIDIA GeForce RTX 3060') that has Tensor Cores. To properly utilize them, you should set `torch.set_float32_matmul_precision('medium' | 'high')` which will trade-off precision for performance. For more details, read https://pytorch.org/docs/stable/generated/torch.set_float32_matmul_precision.html#torch.set_float32_matmul_precision\n",
      "LOCAL_RANK: 0 - CUDA_VISIBLE_DEVICES: [0]\n",
      "\n",
      "   | Name              | Type        | Params | Mode \n",
      "-----------------------------------------------------------\n",
      "0  | dilated_convs     | ModuleList  | 787 K  | train\n",
      "1  | batchnorm_dilated | BatchNorm1d | 512    | train\n",
      "2  | relu              | ReLU        | 0      | train\n",
      "3  | maxpool           | MaxPool1d   | 0      | train\n",
      "4  | conv1             | Conv1d      | 7.4 K  | train\n",
      "5  | batchnorm1        | BatchNorm1d | 512    | train\n",
      "6  | conv2             | Conv1d      | 46.1 K | train\n",
      "7  | batchnorm2        | BatchNorm1d | 120    | train\n",
      "8  | conv3             | Conv1d      | 18.1 K | train\n",
      "9  | batchnorm3        | BatchNorm1d | 120    | train\n",
      "10 | conv4             | Conv1d      | 21.7 K | train\n",
      "11 | batchnorm4        | BatchNorm1d | 240    | train\n",
      "12 | fc                | Sequential  | 2.0 M  | train\n",
      "13 | loss_fn           | MSELoss     | 0      | train\n",
      "-----------------------------------------------------------\n",
      "2.9 M     Trainable params\n",
      "0         Non-trainable params\n",
      "2.9 M     Total params\n",
      "11.417    Total estimated model params size (MB)\n"
     ]
    },
    {
     "data": {
      "application/vnd.jupyter.widget-view+json": {
       "model_id": "",
       "version_major": 2,
       "version_minor": 0
      },
      "text/plain": [
       "Sanity Checking: |                                        | 0/? [00:00<?, ?it/s]"
      ]
     },
     "metadata": {},
     "output_type": "display_data"
    },
    {
     "name": "stdout",
     "output_type": "stream",
     "text": [
      "epoch_val_loss:  tensor(10.4496)\n"
     ]
    },
    {
     "data": {
      "application/vnd.jupyter.widget-view+json": {
       "model_id": "9c59596dead441e780f2e813510f454a",
       "version_major": 2,
       "version_minor": 0
      },
      "text/plain": [
       "Training: |                                               | 0/? [00:00<?, ?it/s]"
      ]
     },
     "metadata": {},
     "output_type": "display_data"
    },
    {
     "data": {
      "application/vnd.jupyter.widget-view+json": {
       "model_id": "",
       "version_major": 2,
       "version_minor": 0
      },
      "text/plain": [
       "Validation: |                                             | 0/? [00:00<?, ?it/s]"
      ]
     },
     "metadata": {},
     "output_type": "display_data"
    },
    {
     "name": "stderr",
     "output_type": "stream",
     "text": [
      "Metric val_loss improved. New best score: 5.716\n"
     ]
    },
    {
     "name": "stdout",
     "output_type": "stream",
     "text": [
      "epoch_val_loss:  tensor(5.7146)\n",
      "epoch_train_loss tensor(0.9900)\n"
     ]
    },
    {
     "data": {
      "application/vnd.jupyter.widget-view+json": {
       "model_id": "",
       "version_major": 2,
       "version_minor": 0
      },
      "text/plain": [
       "Validation: |                                             | 0/? [00:00<?, ?it/s]"
      ]
     },
     "metadata": {},
     "output_type": "display_data"
    },
    {
     "name": "stdout",
     "output_type": "stream",
     "text": [
      "epoch_val_loss:  tensor(33.5531)\n",
      "epoch_train_loss tensor(0.5181)\n"
     ]
    },
    {
     "data": {
      "application/vnd.jupyter.widget-view+json": {
       "model_id": "",
       "version_major": 2,
       "version_minor": 0
      },
      "text/plain": [
       "Validation: |                                             | 0/? [00:00<?, ?it/s]"
      ]
     },
     "metadata": {},
     "output_type": "display_data"
    },
    {
     "name": "stdout",
     "output_type": "stream",
     "text": [
      "epoch_val_loss:  tensor(46.0532)\n",
      "epoch_train_loss tensor(0.3822)\n"
     ]
    },
    {
     "data": {
      "application/vnd.jupyter.widget-view+json": {
       "model_id": "",
       "version_major": 2,
       "version_minor": 0
      },
      "text/plain": [
       "Validation: |                                             | 0/? [00:00<?, ?it/s]"
      ]
     },
     "metadata": {},
     "output_type": "display_data"
    },
    {
     "name": "stderr",
     "output_type": "stream",
     "text": [
      "Monitored metric val_loss did not improve in the last 3 records. Best score: 5.716. Signaling Trainer to stop.\n"
     ]
    },
    {
     "name": "stdout",
     "output_type": "stream",
     "text": [
      "epoch_val_loss:  tensor(47.5501)\n",
      "epoch_train_loss tensor(0.3188)\n",
      "Best model saved at: /home/liangz/Desktop/ml4rg_project_02/checkpoints/Dilated_Residual_DeepSTARR.ckpt\n"
     ]
    }
   ],
   "source": [
    "trainer.fit(model, data_module)\n",
    "\n",
    "best_model_path = checkpoint_callback.best_model_path\n",
    "print(f\"Best model saved at: {best_model_path}\")"
   ]
  },
  {
   "cell_type": "code",
   "execution_count": 13,
   "metadata": {},
   "outputs": [
    {
     "data": {
      "image/png": "[encoded data removed]",
      "text/plain": [
       "<Figure size 640x480 with 1 Axes>"
      ]
     },
     "metadata": {},
     "output_type": "display_data"
    }
   ],
   "source": [
    "with open(train_val_curve_path, 'rb') as f:\n",
    "    loss_data = pickle.load(f)\n",
    "    train_epoch_loss = loss_data['train_epoch_loss']\n",
    "    val_epoch_loss = loss_data['val_epoch_loss'][1:]\n",
    "\n",
    "# Plot training & validation training metrics\n",
    "# MSE\n",
    "plt.plot(train_epoch_loss)\n",
    "plt.plot(val_epoch_loss)\n",
    "plt.title(task) # loss is Mean Squared Error (MSE)\n",
    "plt.ylabel('Loss MSE')\n",
    "plt.xlabel('Epoch')\n",
    "plt.legend(['Train', 'Validation'], loc='upper left')\n",
    "\n",
    "# Add vertical line at minimum validation loss\n",
    "min_val_loss = min(val_epoch_loss)\n",
    "plt.axvline(x=val_epoch_loss.index(min_val_loss), color='red', linestyle='--')\n",
    "\n",
    "plt.show()"
   ]
  },
  {
   "cell_type": "markdown",
   "metadata": {},
   "source": [
    "# Evaluating the Model"
   ]
  },
  {
   "cell_type": "markdown",
   "metadata": {},
   "source": [
    "### Model performance: mean squared error (MSE) and Pearson (PCC) and Spearman (SCC) correlation coefficients"
   ]
  },
  {
   "cell_type": "code",
   "execution_count": 14,
   "metadata": {},
   "outputs": [
    {
     "name": "stderr",
     "output_type": "stream",
     "text": [
      "GPU available: True (cuda), used: True\n",
      "TPU available: False, using: 0 TPU cores\n",
      "HPU available: False, using: 0 HPUs\n",
      "LOCAL_RANK: 0 - CUDA_VISIBLE_DEVICES: [0]\n"
     ]
    },
    {
     "data": {
      "application/vnd.jupyter.widget-view+json": {
       "model_id": "c2427c1416574efc9f32c332d296504b",
       "version_major": 2,
       "version_minor": 0
      },
      "text/plain": [
       "Testing: |                                                | 0/? [00:00<?, ?it/s]"
      ]
     },
     "metadata": {},
     "output_type": "display_data"
    },
    {
     "data": {
      "image/png": "[encoded data removed]",
      "text/plain": [
       "<Figure size 640x480 with 1 Axes>"
      ]
     },
     "metadata": {},
     "output_type": "display_data"
    },
    {
     "data": {
      "image/png": "[encoded data removed]",
      "text/plain": [
       "<Figure size 600x600 with 1 Axes>"
      ]
     },
     "metadata": {},
     "output_type": "display_data"
    },
    {
     "name": "stdout",
     "output_type": "stream",
     "text": [
      "────────────────────────────────────────────────────────────────────────────────────────────────────────────────────────\n",
      "       Test metric             DataLoader 0\n",
      "────────────────────────────────────────────────────────────────────────────────────────────────────────────────────────\n",
      "      MSE mesoderm           5.774594783782959\n",
      "      PCC mesoderm          0.19628626108169556\n",
      "      SCC mesoderm          0.22453650832176208\n",
      "        test_loss            5.774579048156738\n",
      "────────────────────────────────────────────────────────────────────────────────────────────────────────────────────────\n"
     ]
    },
    {
     "data": {
      "text/plain": [
       "[{'test_loss': 5.774579048156738,\n",
       "  'MSE mesoderm': 5.774594783782959,\n",
       "  'PCC mesoderm': 0.19628626108169556,\n",
       "  'SCC mesoderm': 0.22453650832176208}]"
      ]
     },
     "execution_count": 14,
     "metadata": {},
     "output_type": "execute_result"
    }
   ],
   "source": [
    "best_model = DeepSTARR.load_from_checkpoint(best_model_path, params=params)\n",
    "pl.Trainer().test(best_model, dataloaders=DataLoader(MyDataset(train_val_data_folder, 'train'), batch_size=params['batch_size'], collate_fn=my_collate_fn, num_workers=4, shuffle=False))"
   ]
  },
  {
   "cell_type": "code",
   "execution_count": 15,
   "metadata": {},
   "outputs": [
    {
     "name": "stderr",
     "output_type": "stream",
     "text": [
      "GPU available: True (cuda), used: True\n",
      "TPU available: False, using: 0 TPU cores\n",
      "HPU available: False, using: 0 HPUs\n",
      "LOCAL_RANK: 0 - CUDA_VISIBLE_DEVICES: [0]\n"
     ]
    },
    {
     "data": {
      "application/vnd.jupyter.widget-view+json": {
       "model_id": "15bb3b9507504378aeb1a1680217fc91",
       "version_major": 2,
       "version_minor": 0
      },
      "text/plain": [
       "Testing: |                                                | 0/? [00:00<?, ?it/s]"
      ]
     },
     "metadata": {},
     "output_type": "display_data"
    },
    {
     "data": {
      "image/png": "[encoded data removed]",
      "text/plain": [
       "<Figure size 640x480 with 1 Axes>"
      ]
     },
     "metadata": {},
     "output_type": "display_data"
    },
    {
     "data": {
      "image/png": "[encoded data removed]",
      "text/plain": [
       "<Figure size 600x600 with 1 Axes>"
      ]
     },
     "metadata": {},
     "output_type": "display_data"
    },
    {
     "name": "stdout",
     "output_type": "stream",
     "text": [
      "────────────────────────────────────────────────────────────────────────────────────────────────────────────────────────\n",
      "       Test metric             DataLoader 0\n",
      "────────────────────────────────────────────────────────────────────────────────────────────────────────────────────────\n",
      "      MSE mesoderm           5.715671539306641\n",
      "      PCC mesoderm          0.1236458420753479\n",
      "      SCC mesoderm          0.14089611172676086\n",
      "        test_loss            5.715672016143799\n",
      "────────────────────────────────────────────────────────────────────────────────────────────────────────────────────────\n"
     ]
    },
    {
     "data": {
      "text/plain": [
       "[{'test_loss': 5.715672016143799,\n",
       "  'MSE mesoderm': 5.715671539306641,\n",
       "  'PCC mesoderm': 0.1236458420753479,\n",
       "  'SCC mesoderm': 0.14089611172676086}]"
      ]
     },
     "execution_count": 15,
     "metadata": {},
     "output_type": "execute_result"
    }
   ],
   "source": [
    "best_model = DeepSTARR.load_from_checkpoint(best_model_path, params=params)\n",
    "pl.Trainer().test(best_model, dataloaders=DataLoader(MyDataset(train_val_data_folder, 'val'), batch_size=params['batch_size'], collate_fn=my_collate_fn, num_workers=4, shuffle=False))"
   ]
  },
  {
   "cell_type": "code",
   "execution_count": null,
   "metadata": {},
   "outputs": [],
   "source": []
  }
 ],
 "metadata": {
  "kernelspec": {
   "display_name": "Python 3 (ipykernel)",
   "language": "python",
   "name": "python3"
  },
  "language_info": {
   "codemirror_mode": {
    "name": "ipython",
    "version": 3
   },
   "file_extension": ".py",
   "mimetype": "text/x-python",
   "name": "python",
   "nbconvert_exporter": "python",
   "pygments_lexer": "ipython3",
   "version": "3.10.14"
  }
 },
 "nbformat": 4,
 "nbformat_minor": 4
}
