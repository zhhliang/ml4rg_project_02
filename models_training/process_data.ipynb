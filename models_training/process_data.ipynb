{
 "cells": [
  {
   "cell_type": "markdown",
   "metadata": {
    "id": "RHFFauKIZ0u4"
   },
   "source": [
    "# Install dependencies"
   ]
  },
  {
   "cell_type": "code",
   "execution_count": 1,
   "metadata": {
    "id": "caqd4TwPflQv"
   },
   "outputs": [],
   "source": [
    "import pandas as pd\n",
    "import numpy as np\n",
    "import matplotlib.pyplot as plt\n",
    "import joblib\n",
    "import os"
   ]
  },
  {
   "cell_type": "markdown",
   "metadata": {},
   "source": [
    "# Add split column to the data"
   ]
  },
  {
   "cell_type": "code",
   "execution_count": null,
   "metadata": {
    "id": "WrWKlm-4kpyJ"
   },
   "outputs": [],
   "source": [
    "filename = 'Data_sequences_signal_withClass.txt'\n",
    "\n",
    "data = pd.read_table(filename)"
   ]
  },
  {
   "cell_type": "code",
   "execution_count": null,
   "metadata": {},
   "outputs": [],
   "source": [
    "chrom_size = {'chr2L': 23513712, 'chr2R': 25286936,\n",
    "              'chr3L': 28110227,'chr3R': 32079331,\n",
    "              'chrX': 23542271, 'chr4': 1348131, 'chrY': 3667352}"
   ]
  },
  {
   "cell_type": "code",
   "execution_count": null,
   "metadata": {
    "colab": {
     "base_uri": "https://localhost:8080/"
    },
    "id": "RR4tM4Bi6w6b",
    "outputId": "856710ec-e3d5-4c9c-f5dd-803985c058e9"
   },
   "outputs": [],
   "source": [
    "# check number of sequences between tissues\n",
    "data['seqnames'].value_counts()"
   ]
  },
  {
   "cell_type": "code",
   "execution_count": null,
   "metadata": {},
   "outputs": [],
   "source": [
    "data"
   ]
  },
  {
   "cell_type": "code",
   "execution_count": null,
   "metadata": {},
   "outputs": [],
   "source": [
    "split = []\n",
    "\n",
    "for i in range(len(data)):\n",
    "    if data['seqnames'][i] == 'chr2L' and data['end'][i] < chrom_size['chr2L'] / 2:\n",
    "        split.append('fold_chr2L_head')\n",
    "    elif data['seqnames'][i] == 'chr2L' and data['end'][i] >= chrom_size['chr2L'] / 2:\n",
    "        split.append('fold_chr2L_tail')\n",
    "    elif data['seqnames'][i] == 'chr2R' and data['end'][i] < chrom_size['chr2R'] / 2:\n",
    "        split.append('fold_chr2R_head')\n",
    "    elif data['seqnames'][i] == 'chr2R' and data['end'][i] >= chrom_size['chr2R'] / 2:\n",
    "        split.append('fold_test')\n",
    "    elif data['seqnames'][i] == 'chr3L' and data['end'][i] < chrom_size['chr3L'] / 2:\n",
    "        split.append('fold_chr3L_head')\n",
    "    elif data['seqnames'][i] == 'chr3L' and data['end'][i] >= chrom_size['chr3L'] / 2:\n",
    "        split.append('fold_chr3L_tail')\n",
    "    elif data['seqnames'][i] == 'chr3R' and data['end'][i] < chrom_size['chr3R'] / 2:\n",
    "        split.append('fold_chr3R_head')\n",
    "    elif data['seqnames'][i] == 'chr3R' and data['end'][i] >= chrom_size['chr3R'] / 2:\n",
    "        split.append('fold_chr3R_tail')\n",
    "    elif data['seqnames'][i] == 'chrX' and data['end'][i] < chrom_size['chrX'] / 2:\n",
    "        split.append('fold_chrX_head')\n",
    "    elif data['seqnames'][i] == 'chrX' and data['end'][i] >= chrom_size['chrX'] / 2:\n",
    "        split.append('fold_chrX_tail')\n",
    "    elif data['seqnames'][i] == 'chrY' or data['seqnames'][i] == 'chr4':\n",
    "        split.append('fold_4Y')\n",
    "    else:\n",
    "        split.append('other')\n",
    "        \n",
    "data['split'] = split"
   ]
  },
  {
   "cell_type": "code",
   "execution_count": null,
   "metadata": {},
   "outputs": [],
   "source": [
    "data['split'].value_counts()"
   ]
  },
  {
   "cell_type": "markdown",
   "metadata": {},
   "source": [
    "### Save data with split"
   ]
  },
  {
   "cell_type": "code",
   "execution_count": null,
   "metadata": {},
   "outputs": [],
   "source": [
    "# data.to_csv('data_with_split.txt', sep='\\t', index=False)"
   ]
  },
  {
   "cell_type": "markdown",
   "metadata": {},
   "source": [
    "### Load data with split"
   ]
  },
  {
   "cell_type": "code",
   "execution_count": 2,
   "metadata": {},
   "outputs": [],
   "source": [
    "data = pd.read_table('data_with_split.txt')"
   ]
  },
  {
   "cell_type": "code",
   "execution_count": 3,
   "metadata": {},
   "outputs": [
    {
     "data": {
      "text/html": [
       "<div>\n",
       "<style scoped>\n",
       "    .dataframe tbody tr th:only-of-type {\n",
       "        vertical-align: middle;\n",
       "    }\n",
       "\n",
       "    .dataframe tbody tr th {\n",
       "        vertical-align: top;\n",
       "    }\n",
       "\n",
       "    .dataframe thead th {\n",
       "        text-align: right;\n",
       "    }\n",
       "</style>\n",
       "<table border=\"1\" class=\"dataframe\">\n",
       "  <thead>\n",
       "    <tr style=\"text-align: right;\">\n",
       "      <th></th>\n",
       "      <th>seqnames</th>\n",
       "      <th>start</th>\n",
       "      <th>end</th>\n",
       "      <th>name</th>\n",
       "      <th>strand</th>\n",
       "      <th>S2_cardiac_log2</th>\n",
       "      <th>S2_fat_body_log2</th>\n",
       "      <th>S2_hemocytes_log2</th>\n",
       "      <th>S2_mesoderm_log2</th>\n",
       "      <th>S2_neuro_log2</th>\n",
       "      <th>S2_somatic_log2</th>\n",
       "      <th>S2_visceral_log2</th>\n",
       "      <th>Sequence</th>\n",
       "      <th>Class</th>\n",
       "      <th>split</th>\n",
       "    </tr>\n",
       "  </thead>\n",
       "  <tbody>\n",
       "    <tr>\n",
       "      <th>0</th>\n",
       "      <td>chr2L</td>\n",
       "      <td>5051</td>\n",
       "      <td>6051</td>\n",
       "      <td>chr2L_5051_6051</td>\n",
       "      <td>+</td>\n",
       "      <td>5.721734</td>\n",
       "      <td>5.896059</td>\n",
       "      <td>5.633513</td>\n",
       "      <td>5.954741</td>\n",
       "      <td>5.907287</td>\n",
       "      <td>5.512483</td>\n",
       "      <td>5.943708</td>\n",
       "      <td>ACAGAGGAAGCAGAACAGATATTTAGATTGCCTCTCATTTTCTCTC...</td>\n",
       "      <td>positive</td>\n",
       "      <td>fold_chr2L_head</td>\n",
       "    </tr>\n",
       "    <tr>\n",
       "      <th>1</th>\n",
       "      <td>chr2L</td>\n",
       "      <td>5101</td>\n",
       "      <td>6101</td>\n",
       "      <td>chr2L_5101_6101</td>\n",
       "      <td>+</td>\n",
       "      <td>6.221332</td>\n",
       "      <td>6.316148</td>\n",
       "      <td>5.882738</td>\n",
       "      <td>6.278539</td>\n",
       "      <td>6.160721</td>\n",
       "      <td>5.903422</td>\n",
       "      <td>6.287967</td>\n",
       "      <td>ATTATAGGGTGAAATATGATCGCGTATGCGAGAGTAGTGCCAACAT...</td>\n",
       "      <td>positive</td>\n",
       "      <td>fold_chr2L_head</td>\n",
       "    </tr>\n",
       "    <tr>\n",
       "      <th>2</th>\n",
       "      <td>chr2L</td>\n",
       "      <td>5151</td>\n",
       "      <td>6151</td>\n",
       "      <td>chr2L_5151_6151</td>\n",
       "      <td>+</td>\n",
       "      <td>6.490758</td>\n",
       "      <td>6.519899</td>\n",
       "      <td>6.051901</td>\n",
       "      <td>6.446976</td>\n",
       "      <td>6.277693</td>\n",
       "      <td>6.116589</td>\n",
       "      <td>6.472559</td>\n",
       "      <td>TGATCTTCGATTTTTTGGCAACCCAAAATGGAGGCGGACGAACGAG...</td>\n",
       "      <td>positive</td>\n",
       "      <td>fold_chr2L_head</td>\n",
       "    </tr>\n",
       "    <tr>\n",
       "      <th>3</th>\n",
       "      <td>chr2L</td>\n",
       "      <td>5201</td>\n",
       "      <td>6201</td>\n",
       "      <td>chr2L_5201_6201</td>\n",
       "      <td>+</td>\n",
       "      <td>6.730803</td>\n",
       "      <td>6.700606</td>\n",
       "      <td>6.339631</td>\n",
       "      <td>6.634181</td>\n",
       "      <td>6.503401</td>\n",
       "      <td>6.362970</td>\n",
       "      <td>6.707124</td>\n",
       "      <td>TAATGATAAGATGATTCAAAAAGACAATGCACGACAGAGAGAGCAG...</td>\n",
       "      <td>positive</td>\n",
       "      <td>fold_chr2L_head</td>\n",
       "    </tr>\n",
       "    <tr>\n",
       "      <th>4</th>\n",
       "      <td>chr2L</td>\n",
       "      <td>5251</td>\n",
       "      <td>6251</td>\n",
       "      <td>chr2L_5251_6251</td>\n",
       "      <td>+</td>\n",
       "      <td>6.804389</td>\n",
       "      <td>6.778301</td>\n",
       "      <td>6.533721</td>\n",
       "      <td>6.731550</td>\n",
       "      <td>6.633438</td>\n",
       "      <td>6.480213</td>\n",
       "      <td>6.819311</td>\n",
       "      <td>GATAATTAAATTGCCCCTCATTTTCTCTGGCAAATTGTAGGGTGAA...</td>\n",
       "      <td>positive</td>\n",
       "      <td>fold_chr2L_head</td>\n",
       "    </tr>\n",
       "    <tr>\n",
       "      <th>...</th>\n",
       "      <td>...</td>\n",
       "      <td>...</td>\n",
       "      <td>...</td>\n",
       "      <td>...</td>\n",
       "      <td>...</td>\n",
       "      <td>...</td>\n",
       "      <td>...</td>\n",
       "      <td>...</td>\n",
       "      <td>...</td>\n",
       "      <td>...</td>\n",
       "      <td>...</td>\n",
       "      <td>...</td>\n",
       "      <td>...</td>\n",
       "      <td>...</td>\n",
       "      <td>...</td>\n",
       "    </tr>\n",
       "    <tr>\n",
       "      <th>1264267</th>\n",
       "      <td>chr2R</td>\n",
       "      <td>14446951</td>\n",
       "      <td>14447951</td>\n",
       "      <td>chr2R_14446951_14447951</td>\n",
       "      <td>-</td>\n",
       "      <td>3.669696</td>\n",
       "      <td>4.093594</td>\n",
       "      <td>3.755785</td>\n",
       "      <td>3.952706</td>\n",
       "      <td>3.941482</td>\n",
       "      <td>3.603252</td>\n",
       "      <td>3.794842</td>\n",
       "      <td>GTTGTGTGAGTTGCACGTGCTGGCTGACTGGCTCCATCTGGCGGAC...</td>\n",
       "      <td>negative</td>\n",
       "      <td>fold_test</td>\n",
       "    </tr>\n",
       "    <tr>\n",
       "      <th>1264268</th>\n",
       "      <td>chr2L</td>\n",
       "      <td>9718401</td>\n",
       "      <td>9719401</td>\n",
       "      <td>chr2L_9718401_9719401</td>\n",
       "      <td>-</td>\n",
       "      <td>4.183883</td>\n",
       "      <td>3.875023</td>\n",
       "      <td>3.611597</td>\n",
       "      <td>3.947002</td>\n",
       "      <td>3.666916</td>\n",
       "      <td>4.042023</td>\n",
       "      <td>3.789604</td>\n",
       "      <td>TTTGTGAAAACACACACAAGTACCATATATTTCGAGTAGCATTAGC...</td>\n",
       "      <td>negative</td>\n",
       "      <td>fold_chr2L_head</td>\n",
       "    </tr>\n",
       "    <tr>\n",
       "      <th>1264269</th>\n",
       "      <td>chr2R</td>\n",
       "      <td>15902401</td>\n",
       "      <td>15903401</td>\n",
       "      <td>chr2R_15902401_15903401</td>\n",
       "      <td>-</td>\n",
       "      <td>4.664915</td>\n",
       "      <td>4.455853</td>\n",
       "      <td>4.414318</td>\n",
       "      <td>4.558843</td>\n",
       "      <td>4.653977</td>\n",
       "      <td>4.484235</td>\n",
       "      <td>4.453103</td>\n",
       "      <td>AGCCCCGCACATCGGTGCGGTCCACTCCAGGTCCTCCGCTTGCCGC...</td>\n",
       "      <td>negative</td>\n",
       "      <td>fold_test</td>\n",
       "    </tr>\n",
       "    <tr>\n",
       "      <th>1264270</th>\n",
       "      <td>chr3R</td>\n",
       "      <td>10425801</td>\n",
       "      <td>10426801</td>\n",
       "      <td>chr3R_10425801_10426801</td>\n",
       "      <td>-</td>\n",
       "      <td>4.218890</td>\n",
       "      <td>4.541725</td>\n",
       "      <td>4.391781</td>\n",
       "      <td>4.216486</td>\n",
       "      <td>4.330164</td>\n",
       "      <td>4.253407</td>\n",
       "      <td>3.958323</td>\n",
       "      <td>AGACTTATACATCCTGACACATTCCATGCCCCGAACTTTAGCTGCA...</td>\n",
       "      <td>negative</td>\n",
       "      <td>fold_chr3R_head</td>\n",
       "    </tr>\n",
       "    <tr>\n",
       "      <th>1264271</th>\n",
       "      <td>chr3L</td>\n",
       "      <td>7881201</td>\n",
       "      <td>7882201</td>\n",
       "      <td>chr3L_7881201_7882201</td>\n",
       "      <td>-</td>\n",
       "      <td>-0.205098</td>\n",
       "      <td>3.541317</td>\n",
       "      <td>3.577332</td>\n",
       "      <td>2.965720</td>\n",
       "      <td>2.256060</td>\n",
       "      <td>3.293722</td>\n",
       "      <td>3.280504</td>\n",
       "      <td>CATATGAATAATTTTTGTCAGTTATCTAATATTTGCTGTTTACTTT...</td>\n",
       "      <td>negative</td>\n",
       "      <td>fold_chr3L_head</td>\n",
       "    </tr>\n",
       "  </tbody>\n",
       "</table>\n",
       "<p>1264272 rows × 15 columns</p>\n",
       "</div>"
      ],
      "text/plain": [
       "        seqnames     start       end                     name strand  \\\n",
       "0          chr2L      5051      6051          chr2L_5051_6051      +   \n",
       "1          chr2L      5101      6101          chr2L_5101_6101      +   \n",
       "2          chr2L      5151      6151          chr2L_5151_6151      +   \n",
       "3          chr2L      5201      6201          chr2L_5201_6201      +   \n",
       "4          chr2L      5251      6251          chr2L_5251_6251      +   \n",
       "...          ...       ...       ...                      ...    ...   \n",
       "1264267    chr2R  14446951  14447951  chr2R_14446951_14447951      -   \n",
       "1264268    chr2L   9718401   9719401    chr2L_9718401_9719401      -   \n",
       "1264269    chr2R  15902401  15903401  chr2R_15902401_15903401      -   \n",
       "1264270    chr3R  10425801  10426801  chr3R_10425801_10426801      -   \n",
       "1264271    chr3L   7881201   7882201    chr3L_7881201_7882201      -   \n",
       "\n",
       "         S2_cardiac_log2  S2_fat_body_log2  S2_hemocytes_log2  \\\n",
       "0               5.721734          5.896059           5.633513   \n",
       "1               6.221332          6.316148           5.882738   \n",
       "2               6.490758          6.519899           6.051901   \n",
       "3               6.730803          6.700606           6.339631   \n",
       "4               6.804389          6.778301           6.533721   \n",
       "...                  ...               ...                ...   \n",
       "1264267         3.669696          4.093594           3.755785   \n",
       "1264268         4.183883          3.875023           3.611597   \n",
       "1264269         4.664915          4.455853           4.414318   \n",
       "1264270         4.218890          4.541725           4.391781   \n",
       "1264271        -0.205098          3.541317           3.577332   \n",
       "\n",
       "         S2_mesoderm_log2  S2_neuro_log2  S2_somatic_log2  S2_visceral_log2  \\\n",
       "0                5.954741       5.907287         5.512483          5.943708   \n",
       "1                6.278539       6.160721         5.903422          6.287967   \n",
       "2                6.446976       6.277693         6.116589          6.472559   \n",
       "3                6.634181       6.503401         6.362970          6.707124   \n",
       "4                6.731550       6.633438         6.480213          6.819311   \n",
       "...                   ...            ...              ...               ...   \n",
       "1264267          3.952706       3.941482         3.603252          3.794842   \n",
       "1264268          3.947002       3.666916         4.042023          3.789604   \n",
       "1264269          4.558843       4.653977         4.484235          4.453103   \n",
       "1264270          4.216486       4.330164         4.253407          3.958323   \n",
       "1264271          2.965720       2.256060         3.293722          3.280504   \n",
       "\n",
       "                                                  Sequence     Class  \\\n",
       "0        ACAGAGGAAGCAGAACAGATATTTAGATTGCCTCTCATTTTCTCTC...  positive   \n",
       "1        ATTATAGGGTGAAATATGATCGCGTATGCGAGAGTAGTGCCAACAT...  positive   \n",
       "2        TGATCTTCGATTTTTTGGCAACCCAAAATGGAGGCGGACGAACGAG...  positive   \n",
       "3        TAATGATAAGATGATTCAAAAAGACAATGCACGACAGAGAGAGCAG...  positive   \n",
       "4        GATAATTAAATTGCCCCTCATTTTCTCTGGCAAATTGTAGGGTGAA...  positive   \n",
       "...                                                    ...       ...   \n",
       "1264267  GTTGTGTGAGTTGCACGTGCTGGCTGACTGGCTCCATCTGGCGGAC...  negative   \n",
       "1264268  TTTGTGAAAACACACACAAGTACCATATATTTCGAGTAGCATTAGC...  negative   \n",
       "1264269  AGCCCCGCACATCGGTGCGGTCCACTCCAGGTCCTCCGCTTGCCGC...  negative   \n",
       "1264270  AGACTTATACATCCTGACACATTCCATGCCCCGAACTTTAGCTGCA...  negative   \n",
       "1264271  CATATGAATAATTTTTGTCAGTTATCTAATATTTGCTGTTTACTTT...  negative   \n",
       "\n",
       "                   split  \n",
       "0        fold_chr2L_head  \n",
       "1        fold_chr2L_head  \n",
       "2        fold_chr2L_head  \n",
       "3        fold_chr2L_head  \n",
       "4        fold_chr2L_head  \n",
       "...                  ...  \n",
       "1264267        fold_test  \n",
       "1264268  fold_chr2L_head  \n",
       "1264269        fold_test  \n",
       "1264270  fold_chr3R_head  \n",
       "1264271  fold_chr3L_head  \n",
       "\n",
       "[1264272 rows x 15 columns]"
      ]
     },
     "execution_count": 3,
     "metadata": {},
     "output_type": "execute_result"
    }
   ],
   "source": [
    "data"
   ]
  },
  {
   "cell_type": "code",
   "execution_count": 4,
   "metadata": {},
   "outputs": [],
   "source": [
    "assert len(data[data['split'] == 'fold_chr2L_head']) + len(data[data['split'] == 'fold_chr2L_tail']) == len(data[data['seqnames'] == 'chr2L'])\n",
    "assert len(data[data['split'] == 'fold_chr2R_head']) + len(data[data['split'] == 'fold_test']) == len(data[data['seqnames'] == 'chr2R'])\n",
    "assert len(data[data['split'] == 'fold_chr3L_head']) + len(data[data['split'] == 'fold_chr3L_tail']) == len(data[data['seqnames'] == 'chr3L'])\n",
    "assert len(data[data['split'] == 'fold_chr3R_head']) + len(data[data['split'] == 'fold_chr3R_tail']) == len(data[data['seqnames'] == 'chr3R'])\n",
    "assert len(data[data['split'] == 'fold_chrX_head']) + len(data[data['split'] == 'fold_chrX_tail']) == len(data[data['seqnames'] == 'chrX'])\n",
    "assert len(data[data['split'] == 'fold_4Y']) == (len(data[data['seqnames'] == 'chr4']) + len(data[data['seqnames'] == 'chrY']))"
   ]
  },
  {
   "cell_type": "code",
   "execution_count": 5,
   "metadata": {},
   "outputs": [
    {
     "data": {
      "text/plain": [
       "split\n",
       "fold_chr3R_tail    151124\n",
       "fold_chr3R_head    146764\n",
       "fold_chr3L_head    135574\n",
       "fold_chr3L_tail    130938\n",
       "fold_test          122466\n",
       "fold_chr2R_head    115900\n",
       "fold_chr2L_head    113046\n",
       "fold_chrX_head     109946\n",
       "fold_chr2L_tail    109232\n",
       "fold_chrX_tail     106262\n",
       "fold_4Y             23020\n",
       "Name: count, dtype: int64"
      ]
     },
     "execution_count": 5,
     "metadata": {},
     "output_type": "execute_result"
    }
   ],
   "source": [
    "data['split'].value_counts()"
   ]
  },
  {
   "cell_type": "code",
   "execution_count": 6,
   "metadata": {},
   "outputs": [
    {
     "data": {
      "text/plain": [
       "array(['chr2R'], dtype=object)"
      ]
     },
     "execution_count": 6,
     "metadata": {},
     "output_type": "execute_result"
    }
   ],
   "source": [
    "data[data['split'] == 'fold_test']['seqnames'].unique()"
   ]
  },
  {
   "cell_type": "markdown",
   "metadata": {
    "id": "vhaJPSNtwfn9"
   },
   "source": [
    "### One-hot encode DNA sequence data"
   ]
  },
  {
   "cell_type": "code",
   "execution_count": 7,
   "metadata": {
    "id": "wY3s1aaRximw"
   },
   "outputs": [],
   "source": [
    "# define a dictionary to map nucleotides to their one-hot encoded representation\n",
    "nucleotide_dict = {'A': [1, 0, 0, 0],\n",
    "                   'C': [0, 1, 0, 0],\n",
    "                   'G': [0, 0, 1, 0],\n",
    "                   'T': [0, 0, 0, 1],\n",
    "                   'N': [0, 0, 0, 0]} # sometimes there are Ns\n",
    "\n",
    "# define a function to one-hot encode a single DNA sequence\n",
    "def one_hot_encode(seq):\n",
    "    return np.array([nucleotide_dict[nuc] for nuc in seq])\n",
    "\n",
    "# function to load sequences and enhancer activity\n",
    "def prepare_input(data_set):\n",
    "\n",
    "  # one-hot encode DNA sequences, apply function\n",
    "  seq_matrix = np.array(data_set['Sequence'].apply(one_hot_encode).tolist())\n",
    "\n",
    "  # Get output array with mesoderm, visceral, cardiac and and somatic activities   \n",
    "  Y_mesoderm = data_set.S2_mesoderm_log2.values\n",
    "  Y_visceral = data_set.S2_visceral_log2.values\n",
    "  Y_cardiac = data_set.S2_cardiac_log2.values\n",
    "  Y_somatic = data_set.S2_somatic_log2.values\n",
    "\n",
    "  # dimensions are (number of sequences, length of sequences, nucleotides)\n",
    "  print(f\"X: {seq_matrix.shape}, Y_mesoderm: {Y_mesoderm.shape}, Y_visceral: {Y_visceral.shape}, Y_cardiac: {Y_cardiac.shape}, , Y_somatic: {Y_somatic.shape}\")\n",
    "\n",
    "  Y = [Y_mesoderm, Y_visceral, Y_cardiac, Y_somatic]\n",
    "\n",
    "  return seq_matrix, Y"
   ]
  },
  {
   "cell_type": "markdown",
   "metadata": {},
   "source": [
    "# Process data into train, val, test sets"
   ]
  },
  {
   "cell_type": "code",
   "execution_count": 8,
   "metadata": {},
   "outputs": [
    {
     "name": "stdout",
     "output_type": "stream",
     "text": [
      "X: (122466, 1001, 4), Y_mesoderm: (122466,), Y_visceral: (122466,), Y_cardiac: (122466,), , Y_somatic: (122466,)\n",
      "X: (106262, 1001, 4), Y_mesoderm: (106262,), Y_visceral: (106262,), Y_cardiac: (106262,), , Y_somatic: (106262,)\n",
      "X: (1035544, 1001, 4), Y_mesoderm: (1035544,), Y_visceral: (1035544,), Y_cardiac: (1035544,), , Y_somatic: (1035544,)\n"
     ]
    }
   ],
   "source": [
    "### Validation fold candidates:\n",
    "# 'fold_chr2R_head': split_1\n",
    "# 'fold_chr2L_head': split_2\n",
    "# 'fold_chr2L_tail': split_3\n",
    "# 'fold_chr3L_head': split_4\n",
    "# 'fold_chr3L_tail': split_5\n",
    "# 'fold_chr3R_head': split_6\n",
    "# 'fold_chr3R_tail': split_7\n",
    "# 'fold_chrX_head': split_8\n",
    "# 'fold_chrX_tail': split_9\n",
    "\n",
    "val_fold = 'fold_chrX_tail' # change this for different splits\n",
    "\n",
    "X_test, Y_test = prepare_input(data[data['split'] == 'fold_test'])\n",
    "X_val, Y_val = prepare_input(data[data['split'] == val_fold])\n",
    "X_train, Y_train = prepare_input(data[(data['split'] != 'fold_test') & (data['split'] != val_fold)])"
   ]
  },
  {
   "cell_type": "code",
   "execution_count": 9,
   "metadata": {
    "colab": {
     "base_uri": "https://localhost:8080/",
     "height": 1000
    },
    "id": "kkpWPxsQrrSd",
    "outputId": "722733c7-b019-40ae-d581-dab823528ff3"
   },
   "outputs": [
    {
     "data": {
      "image/png": "[encoded data removed]",
      "text/plain": [
       "<Figure size 640x480 with 1 Axes>"
      ]
     },
     "metadata": {},
     "output_type": "display_data"
    },
    {
     "data": {
      "image/png": "[encoded data removed]",
      "text/plain": [
       "<Figure size 640x480 with 1 Axes>"
      ]
     },
     "metadata": {},
     "output_type": "display_data"
    },
    {
     "data": {
      "image/png": "[encoded data removed]",
      "text/plain": [
       "<Figure size 640x480 with 1 Axes>"
      ]
     },
     "metadata": {},
     "output_type": "display_data"
    }
   ],
   "source": [
    "# Look at distribution of activities for each fold\n",
    "def hist_activities(fold, Y):\n",
    "\n",
    "  plt.hist(Y[0], alpha=0.5, bins=50, label=fold + ' mesoderm', color='red', range=[-5.5, 9])\n",
    "#   plt.hist(Y[1], alpha=0.5, bins=50, label=fold +' visceral', color='blue', range=[-5.5, 9])\n",
    "#   plt.hist(Y[2], alpha=0.5, bins=50, label=fold + ' cardiac', color='orange', range=[-5.5, 9])\n",
    "#   plt.hist(Y[3], alpha=0.5, bins=50, label=fold +' somatic', color='green', range=[-5.5, 9])\n",
    "\n",
    "  plt.legend(loc='upper right')\n",
    "  plt.xlabel('Enhancer activity [log2]')\n",
    "  plt.ylabel('Frequency')\n",
    "  plt.title(fold)\n",
    "\n",
    "  plt.show()\n",
    "\n",
    "hist_activities(\"Train\", Y_train)\n",
    "hist_activities(\"Val\", Y_val)\n",
    "hist_activities(\"Test\", Y_test)"
   ]
  },
  {
   "cell_type": "markdown",
   "metadata": {
    "id": "nTzC-X7AEPLL"
   },
   "source": [
    "## Save data\n",
    "Let's save intermediate files in case you want to access it later without running the cells above."
   ]
  },
  {
   "cell_type": "code",
   "execution_count": null,
   "metadata": {},
   "outputs": [],
   "source": [
    "### Save test set, you need to save test set ONLY ONCE!\n",
    "# save_dir = './data/test' \n",
    "# if not os.path.exists(save_dir):\n",
    "#     os.makedirs(save_dir)\n",
    "    \n",
    "# joblib.dump(X_test, save_dir + '/X_test')\n",
    "# joblib.dump(Y_test, save_dir + '/Y_test')"
   ]
  },
  {
   "cell_type": "code",
   "execution_count": 10,
   "metadata": {},
   "outputs": [
    {
     "data": {
      "text/plain": [
       "['./data/split_9/Y_val']"
      ]
     },
     "execution_count": 10,
     "metadata": {},
     "output_type": "execute_result"
    }
   ],
   "source": [
    "# save train, val sets\n",
    "save_dir = './data/split_9' # change folder name for different splits\n",
    "if not os.path.exists(save_dir):\n",
    "    os.makedirs(save_dir)\n",
    "\n",
    "joblib.dump(X_train, save_dir + '/X_train')\n",
    "joblib.dump(Y_train, save_dir + '/Y_train')\n",
    "joblib.dump(X_val, save_dir + '/X_val')\n",
    "joblib.dump(Y_val, save_dir + '/Y_val')"
   ]
  },
  {
   "cell_type": "markdown",
   "metadata": {},
   "source": [
    "## Load data"
   ]
  },
  {
   "cell_type": "code",
   "execution_count": 2,
   "metadata": {},
   "outputs": [],
   "source": [
    "# data can be loaded like this\n",
    "import joblib\n",
    "\n",
    "load_dir = './data/split_1' # change folder name for different splits\n",
    "\n",
    "X_train = joblib.load(load_dir + '/X_train')\n",
    "Y_train = joblib.load(load_dir + '/Y_train')\n",
    "\n",
    "X_val = joblib.load(load_dir + '/X_val')\n",
    "Y_val = joblib.load(load_dir + '/Y_val')\n",
    "\n",
    "X_test = joblib.load('./data/test/X_test')\n",
    "Y_test = joblib.load('./data/test/Y_test')"
   ]
  },
  {
   "cell_type": "code",
   "execution_count": 3,
   "metadata": {},
   "outputs": [
    {
     "name": "stdout",
     "output_type": "stream",
     "text": [
      "X_test: (122466, 1001, 4)\n",
      "Y_test: (122466,)\n"
     ]
    }
   ],
   "source": [
    "print(f\"X_train: {X_train.shape}\")\n",
    "print(f\"Y_train: {Y_train[0].shape}\")\n",
    "\n",
    "print(f\"X_val: {X_val.shape}\")\n",
    "print(f\"Y_val: {Y_val[0].shape}\")\n",
    "\n",
    "print(f\"X_test: {X_test.shape}\")\n",
    "print(f\"Y_test: {Y_test[0].shape}\")"
   ]
  },
  {
   "cell_type": "code",
   "execution_count": null,
   "metadata": {},
   "outputs": [],
   "source": []
  }
 ],
 "metadata": {
  "accelerator": "GPU",
  "colab": {
   "gpuType": "T4",
   "provenance": [],
   "toc_visible": true
  },
  "gpuClass": "standard",
  "kernelspec": {
   "display_name": "Python 3 (ipykernel)",
   "language": "python",
   "name": "python3"
  },
  "language_info": {
   "codemirror_mode": {
    "name": "ipython",
    "version": 3
   },
   "file_extension": ".py",
   "mimetype": "text/x-python",
   "name": "python",
   "nbconvert_exporter": "python",
   "pygments_lexer": "ipython3",
   "version": "3.10.14"
  }
 },
 "nbformat": 4,
 "nbformat_minor": 4
}
